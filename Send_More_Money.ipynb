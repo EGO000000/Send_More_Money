{
  "nbformat": 4,
  "nbformat_minor": 0,
  "metadata": {
    "colab": {
      "provenance": [],
      "authorship_tag": "ABX9TyOYUyRYULa4NhlKnHPI+dK8"
    },
    "kernelspec": {
      "name": "python3",
      "display_name": "Python 3"
    },
    "language_info": {
      "name": "python"
    }
  },
  "cells": [
    {
      "cell_type": "code",
      "source": [
        "def code():\n",
        "  words = [\"SEND\", \"MORE\"]\n",
        "  equal = \"MONEY\"\n",
        "  lenthofequal = len(equal)#5\n",
        "  lenthofwords = len(words)#2\n",
        "  lenthofword = len(words[1])#4\n",
        "  NotNull = {'S'}\n",
        "  answer = words + [equal]\n",
        "  Stock = set()\n",
        "  LAnswer = {}\n",
        "  def SendMoreMoney(colum,CurCharInCol,tens):\n",
        "    if colum == 5: return tens == 0\n",
        "    if CurCharInCol == 3: \n",
        "      sumofcolum = sum(LAnswer[word[-colum-1]] if colum < 4 else 0 for word in words) + tens\n",
        "      return SendMoreMoney(colum+1,0,sumofcolum//10) if sumofcolum % 10 == LAnswer[equal[-colum-1]] else False\n",
        "    if CurCharInCol < 2 and colum == 4:\n",
        "      return SendMoreMoney(colum,CurCharInCol+1,tens)\n",
        "    char = answer[CurCharInCol][-colum-1]            \n",
        "    if char in LAnswer: \n",
        "      return SendMoreMoney(colum,CurCharInCol+1,tens)\n",
        "    for x in range((char in NotNull), 10):\n",
        "      if x not in Stock:\n",
        "        LAnswer[char] = x\n",
        "        Stock.add(x)\n",
        "        if SendMoreMoney(colum,CurCharInCol+1,tens): return True\n",
        "        Stock.remove(LAnswer.pop(char))\n",
        "  SendMoreMoney(0,0,0)\n",
        "  return LAnswer"
      ],
      "metadata": {
        "id": "jumi7fyg7Ra0"
      },
      "execution_count": null,
      "outputs": []
    },
    {
      "cell_type": "code",
      "execution_count": null,
      "metadata": {
        "colab": {
          "base_uri": "https://localhost:8080/"
        },
        "id": "PqMGLGKX66Pd",
        "outputId": "d4c4fb88-aef7-4726-90bb-3ff7c5b49026"
      },
      "outputs": [
        {
          "output_type": "stream",
          "name": "stdout",
          "text": [
            "0.0024487972259521484\n",
            "{'D': 1, 'E': 5, 'Y': 6, 'N': 3, 'R': 2, 'O': 8, 'S': 7, 'M': 0}\n"
          ]
        }
      ],
      "source": [
        "from time import time\n",
        "def sec():\n",
        "    time_now = time()\n",
        "    d = code()\n",
        "    a = time() - time_now\n",
        "    print(a)\n",
        "    print(d)\n",
        "sec()\n",
        "#(if colum == 5:) - that was a breakpoint of that recurshion when it return True program stops, because 6 colum(letter M only) can't have any tens from previost column\n",
        "#(if CurCharInCol == 3:) - that is exectly what explain in 3rd tipe of solushion in that file: https://www.cloudai.sk/wp-content/uploads/2019/10/ai_zadanie_money.pdf\n",
        "#(if CurCharInCol < 2 and colum == 4:) - that start point for last if(if colum == 5)\n",
        "#(if char in LAnswer:) - that means we can have only one char in LAnswer"
      ]
    }
  ]
}